{
 "cells": [
  {
   "cell_type": "code",
   "execution_count": 1,
   "metadata": {},
   "outputs": [],
   "source": [
    "# import Levenshtein\n",
    "import pymupdf\n",
    "import json\n",
    "from tqdm import tqdm\n",
    "from openai import OpenAI\n",
    "import copy\n",
    "\n",
    "import io\n",
    "import os\n",
    "import sys\n",
    "import time\n",
    "import re\n",
    "# import fitzs\n",
    "from pdf2image import convert_from_path\n",
    "from PIL import Image"
   ]
  },
  {
   "cell_type": "code",
   "execution_count": 2,
   "metadata": {},
   "outputs": [],
   "source": [
    "import requests\n",
    "from bs4 import BeautifulSoup"
   ]
  },
  {
   "cell_type": "code",
   "execution_count": 3,
   "metadata": {},
   "outputs": [],
   "source": [
    "from openai import OpenAI"
   ]
  },
  {
   "cell_type": "code",
   "execution_count": null,
   "metadata": {},
   "outputs": [],
   "source": [
    "from dotenv import load_dotenv\n",
    "import os\n",
    "\n",
    "load_dotenv()\n",
    "api_key = os.getenv(\"API_KEY\")"
   ]
  },
  {
   "cell_type": "code",
   "execution_count": null,
   "metadata": {},
   "outputs": [],
   "source": [
    "OPENAI_API_KEY = api_key\n",
    "client = OpenAI(api_key = OPENAI_API_KEY)"
   ]
  },
  {
   "cell_type": "code",
   "execution_count": 11,
   "metadata": {},
   "outputs": [],
   "source": [
    "def get_api_response(prompt, text, model = \"gpt-4o-mini\"):\n",
    "    completion = client.chat.completions.create(\n",
    "        model=model,\n",
    "        messages=[\n",
    "            {\"role\": \"developer\", \"content\": \"You are a helpful assistant.\"},\n",
    "            {\"role\": \"user\", \"content\": f\" {prompt}. Here is the text: {text}\"}\n",
    "        ]\n",
    "    )\n",
    "    return completion.choices[0].message.content"
   ]
  },
  {
   "cell_type": "code",
   "execution_count": 12,
   "metadata": {},
   "outputs": [],
   "source": [
    "DS_BIB_PDF_PATH = 'pdf2latex/data-science-bib.pdf'"
   ]
  },
  {
   "cell_type": "code",
   "execution_count": 13,
   "metadata": {},
   "outputs": [],
   "source": [
    "# read book using pymupdf\n",
    "pdf_document = pymupdf.open(DS_BIB_PDF_PATH)"
   ]
  },
  {
   "cell_type": "code",
   "execution_count": 14,
   "metadata": {},
   "outputs": [],
   "source": [
    "bibliography = \"\"\n",
    "for page in pdf_document:\n",
    "    bibliography += page.get_text()\n",
    "    "
   ]
  },
  {
   "cell_type": "code",
   "execution_count": 15,
   "metadata": {},
   "outputs": [],
   "source": [
    "prompt = r\"\"\" \n",
    "    I am going to pass the extracted text from a PDF file of a textbook. It contains a bibliography section. \n",
    "    I want you to extract the references mentioned in the bibliography section. This should be a dictionary and the dictionary's keys \n",
    "    should be the key given as [something] for the references in the text. The values should be the full references in bibtex format. You can return the bibtex. \n",
    "    Create the bibtext format yourself. Understand what the bibtex format should be for each reference and return that as a string. For example, the\n",
    "    bibtex format for a reference \"Andrew Abela. Advanced Presentations by Design: Creating Communi-cation that Drives Action. Pfei\u000ber, 2nd edition, 2013.\"\n",
    "    should be:\n",
    "    @book{abela2008advanced,\n",
    "        title={Advanced presentations by design: Creating communication that drives action},\n",
    "        author={Abela, Andrew},\n",
    "        year={2008},\n",
    "        publisher={John Wiley \\& Sons}\n",
    "    }\n",
    "    So if the text exists like this in the book:\n",
    "    [Abe13]\\nAndrew Abela. Advanced Presentations by Design: Creating Communi-\\ncation that Drives Action. Pfeiﬀer, 2nd edition, 2013.\n",
    "    Then the output should be:\n",
    "    {\n",
    "        \"Abe13\": \"@book{abela2008advanced,\\n    title={Advanced presentations by design: Creating communication that drives action},\\n    author={Abela, Andrew},\\n    year={2008},\\n    publisher={John Wiley \\& Sons}\\n}\"\n",
    "    }\n",
    "    Only and only extract the information from the text I provide. If you are not sure about the information,\n",
    "    do not make any assumptions. Just return the information as it is.\n",
    "    What is most important to me is that the citation key is created for each reference. Return ONLY and ONLY the dictionary, so that I can use it\n",
    "    in my code. Do not return any other text.\n",
    "\"\"\""
   ]
  },
  {
   "cell_type": "code",
   "execution_count": 16,
   "metadata": {},
   "outputs": [],
   "source": [
    "api_response = get_api_response(prompt, bibliography, model=\"gpt-4o\")"
   ]
  },
  {
   "cell_type": "code",
   "execution_count": 20,
   "metadata": {},
   "outputs": [],
   "source": [
    "text_split = api_response.split(\"```json\\n\")\n",
    "if len(text_split) > 1:\n",
    "    json_content = text_split[1].split(\"\\n```\")[0]"
   ]
  },
  {
   "cell_type": "code",
   "execution_count": 21,
   "metadata": {},
   "outputs": [],
   "source": [
    "# store the api response\n",
    "with open(\"ds_bib.json\", \"w\") as f:\n",
    "    f.write(json_content)"
   ]
  },
  {
   "cell_type": "code",
   "execution_count": 3,
   "metadata": {},
   "outputs": [],
   "source": [
    "# load the json content\n",
    "with open(\"../../files/data-science_book/ds_bib.json\", \"r\") as f:\n",
    "    ds_bib_dict = json.load(f)"
   ]
  },
  {
   "cell_type": "code",
   "execution_count": 27,
   "metadata": {},
   "outputs": [],
   "source": [
    "def save_bibtex(bib_dict, filename=\"references.bib\"):\n",
    "    \"\"\"\n",
    "    Saves a dictionary of BibTeX entries to a .bib file.\n",
    "\n",
    "    Parameters:\n",
    "        bib_dict (dict): Dictionary where keys are citation keys and values are BibTeX-formatted strings.\n",
    "        filename (str): The name of the output .bib file (default: 'references.bib').\n",
    "\n",
    "    Returns:\n",
    "        None\n",
    "    \"\"\"\n",
    "    with open(filename, \"w\", encoding=\"utf-8\") as f:\n",
    "        for entry in bib_dict.values():\n",
    "            f.write(entry + \"\\n\\n\")  # Ensure entries are separated by a blank line\n",
    "\n",
    "    print(f\"BibTeX file saved as {filename}\")"
   ]
  },
  {
   "cell_type": "code",
   "execution_count": 28,
   "metadata": {},
   "outputs": [
    {
     "name": "stdout",
     "output_type": "stream",
     "text": [
      "BibTeX file saved as ds_bib.bib\n"
     ]
    }
   ],
   "source": [
    "save_bibtex(ds_bib_dict, filename=\"ds_bib.bib\")"
   ]
  },
  {
   "cell_type": "code",
   "execution_count": 4,
   "metadata": {},
   "outputs": [],
   "source": [
    "citation_dict = {key: re.search(r'@[\\w]+\\{([^,]+),', value).group(1) for key, value in ds_bib_dict.items()}"
   ]
  },
  {
   "cell_type": "code",
   "execution_count": 5,
   "metadata": {},
   "outputs": [],
   "source": [
    "TEX_PATH = \"../../files/data-science_book/outputs/data-science_pg_sep.tex\""
   ]
  },
  {
   "cell_type": "code",
   "execution_count": 6,
   "metadata": {},
   "outputs": [],
   "source": [
    "import re\n",
    "\n",
    "def replace_citations(tex_filename, bib_dict, output_filename=\"updated.tex\"):\n",
    "    \"\"\"\n",
    "    Replaces citation keys in a LaTeX file with \\cite{...} using a dictionary.\n",
    "\n",
    "    Parameters:\n",
    "        tex_filename (str): The name of the input .tex file.\n",
    "        bib_dict (dict): Dictionary where keys are the citation keys in text (e.g., 'Abe13'),\n",
    "                         and values are the BibTeX citation keys (e.g., 'abela2013advanced').\n",
    "        output_filename (str): The name of the output file with updated citations (default: 'updated.tex').\n",
    "\n",
    "    Returns:\n",
    "        None\n",
    "    \"\"\"\n",
    "    # Read the LaTeX file\n",
    "    with open(tex_filename, \"r\", encoding=\"utf-8\") as f:\n",
    "        tex_content = f.read()\n",
    "    \n",
    "    # Replace each citation key with \\cite{bibtex_key}\n",
    "    for key, bibtex_key in bib_dict.items():\n",
    "        tex_content = re.sub(rf'\\b{re.escape(key)}\\b', rf'\\\\cite{{{bibtex_key}}}', tex_content, count=1)\n",
    "\n",
    "    # Save the updated content to a new file\n",
    "    with open(output_filename, \"w\", encoding=\"utf-8\") as f:\n",
    "        f.write(tex_content)\n",
    "\n",
    "    print(f\"Updated LaTeX file saved as {output_filename}\")\n"
   ]
  },
  {
   "cell_type": "code",
   "execution_count": 7,
   "metadata": {},
   "outputs": [
    {
     "name": "stdout",
     "output_type": "stream",
     "text": [
      "Updated LaTeX file saved as ../../files/data-science_book/outputs/data-science_pg_sep_bib.tex\n"
     ]
    }
   ],
   "source": [
    "replace_citations(TEX_PATH, citation_dict, output_filename=\"../../files/data-science_book/outputs/data-science_pg_sep_bib.tex\")"
   ]
  },
  {
   "cell_type": "code",
   "execution_count": null,
   "metadata": {},
   "outputs": [],
   "source": []
  }
 ],
 "metadata": {
  "kernelspec": {
   "display_name": "ap_env",
   "language": "python",
   "name": "python3"
  },
  "language_info": {
   "codemirror_mode": {
    "name": "ipython",
    "version": 3
   },
   "file_extension": ".py",
   "mimetype": "text/x-python",
   "name": "python",
   "nbconvert_exporter": "python",
   "pygments_lexer": "ipython3",
   "version": "3.11.11"
  }
 },
 "nbformat": 4,
 "nbformat_minor": 2
}
