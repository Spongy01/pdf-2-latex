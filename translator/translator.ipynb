{
 "cells": [
  {
   "cell_type": "code",
   "execution_count": null,
   "id": "ec3c8714",
   "metadata": {},
   "outputs": [],
   "source": []
  },
  {
   "cell_type": "code",
   "execution_count": null,
   "id": "49355f8f",
   "metadata": {},
   "outputs": [],
   "source": [
    "!pip install "
   ]
  },
  {
   "cell_type": "code",
   "execution_count": 11,
   "id": "df5585c1",
   "metadata": {},
   "outputs": [
    {
     "ename": "OpenAIError",
     "evalue": "The api_key client option must be set either by passing api_key to the client or by setting the OPENAI_API_KEY environment variable",
     "output_type": "error",
     "traceback": [
      "\u001b[0;31m---------------------------------------------------------------------------\u001b[0m",
      "\u001b[0;31mOpenAIError\u001b[0m                               Traceback (most recent call last)",
      "Cell \u001b[0;32mIn[11], line 10\u001b[0m\n\u001b[1;32m      7\u001b[0m     sys\u001b[38;5;241m.\u001b[39mpath\u001b[38;5;241m.\u001b[39mappend(parent_dir)\n\u001b[1;32m      9\u001b[0m \u001b[38;5;66;03m# Now you can import main.py\u001b[39;00m\n\u001b[0;32m---> 10\u001b[0m \u001b[38;5;28;01mimport\u001b[39;00m \u001b[38;5;21;01mmain\u001b[39;00m\n",
      "File \u001b[0;32m~/Desktop/Ali Asgar/Stony Brook/Advanced Project/local/translator/translation_for_latex/main.py:28\u001b[0m\n\u001b[1;32m     21\u001b[0m     \u001b[38;5;28;01mreturn\u001b[39;00m \u001b[38;5;124m\"\u001b[39m\u001b[38;5;130;01m\\n\u001b[39;00m\u001b[38;5;130;01m\\n\u001b[39;00m\u001b[38;5;124m\"\u001b[39m\u001b[38;5;241m.\u001b[39mjoin(translated_text)\n\u001b[1;32m     24\u001b[0m data \u001b[38;5;241m=\u001b[39m \u001b[38;5;124mr\u001b[39m\u001b[38;5;124m\"\"\"\u001b[39m\u001b[38;5;124m\\\u001b[39m\u001b[38;5;124msection\u001b[39m\u001b[38;5;124m{\u001b[39m\u001b[38;5;124mCorrelation Analysis}\u001b[39m\n\u001b[1;32m     25\u001b[0m \u001b[38;5;124m\\\u001b[39m\u001b[38;5;124mindex\u001b[39m\u001b[38;5;132;01m{analysis}\u001b[39;00m\u001b[38;5;124mSuppose we are given two variables $x$ and $y$, represented by a sample of $n$ points of the form $(x_i, y_i)$, for $1 \u001b[39m\u001b[38;5;124m\\\u001b[39m\u001b[38;5;124mleq i \u001b[39m\u001b[38;5;124m\\\u001b[39m\u001b[38;5;124mleq n$. We say that $x$ and $y$ are correlated when the value of $x$ has some predictive power on the value of $y$.\u001b[39m\u001b[38;5;124m\"\"\"\u001b[39m\n\u001b[0;32m---> 28\u001b[0m result \u001b[38;5;241m=\u001b[39m main(data, \u001b[38;5;124m\"\u001b[39m\u001b[38;5;124mEnglish\u001b[39m\u001b[38;5;124m\"\u001b[39m, \u001b[38;5;124m\"\u001b[39m\u001b[38;5;124mBengali\u001b[39m\u001b[38;5;124m\"\u001b[39m)\n\u001b[1;32m     29\u001b[0m \u001b[38;5;28mprint\u001b[39m(result)\n",
      "File \u001b[0;32m~/Desktop/Ali Asgar/Stony Brook/Advanced Project/local/translator/translation_for_latex/main.py:17\u001b[0m, in \u001b[0;36mmain\u001b[0;34m(latex_block, source_lang, target_lang)\u001b[0m\n\u001b[1;32m     14\u001b[0m         translated_text\u001b[38;5;241m.\u001b[39mappend(block[\u001b[38;5;124m\"\u001b[39m\u001b[38;5;124mtext\u001b[39m\u001b[38;5;124m\"\u001b[39m])\n\u001b[1;32m     15\u001b[0m     \u001b[38;5;28;01melse\u001b[39;00m:\n\u001b[1;32m     16\u001b[0m         \u001b[38;5;66;03m# Translate the text using the translation API\u001b[39;00m\n\u001b[0;32m---> 17\u001b[0m         translation \u001b[38;5;241m=\u001b[39m latex_translation_handler(\n\u001b[1;32m     18\u001b[0m             block[\u001b[38;5;124m\"\u001b[39m\u001b[38;5;124mtext\u001b[39m\u001b[38;5;124m\"\u001b[39m], source_lang, target_lang, \u001b[38;5;124m\"\u001b[39m\u001b[38;5;124mgpt-4o\u001b[39m\u001b[38;5;124m\"\u001b[39m\n\u001b[1;32m     19\u001b[0m         )\n\u001b[1;32m     20\u001b[0m         translated_text\u001b[38;5;241m.\u001b[39mappend(translation)\n\u001b[1;32m     21\u001b[0m \u001b[38;5;28;01mreturn\u001b[39;00m \u001b[38;5;124m\"\u001b[39m\u001b[38;5;130;01m\\n\u001b[39;00m\u001b[38;5;130;01m\\n\u001b[39;00m\u001b[38;5;124m\"\u001b[39m\u001b[38;5;241m.\u001b[39mjoin(translated_text)\n",
      "File \u001b[0;32m~/Desktop/Ali Asgar/Stony Brook/Advanced Project/local/translator/translation_for_latex/utils/latex_translation_handler.py:17\u001b[0m, in \u001b[0;36mlatex_translation_handler\u001b[0;34m(latex_text, source_lang, target_lang, model)\u001b[0m\n\u001b[1;32m     14\u001b[0m modified_paragraph \u001b[38;5;241m=\u001b[39m process_text(paragraph)\n\u001b[1;32m     15\u001b[0m changed_text, replacement_dict \u001b[38;5;241m=\u001b[39m delatex(modified_paragraph)\n\u001b[0;32m---> 17\u001b[0m translation \u001b[38;5;241m=\u001b[39m translate(changed_text, target_lang, source_lang, model)\n\u001b[1;32m     18\u001b[0m translation_replaced \u001b[38;5;241m=\u001b[39m translation\n\u001b[1;32m     19\u001b[0m \u001b[38;5;66;03m# print(\"translation_replaced\", translation_replaced)\u001b[39;00m\n\u001b[1;32m     20\u001b[0m \u001b[38;5;66;03m# replace each replacement token with the corresponding text\u001b[39;00m\n",
      "File \u001b[0;32m~/Desktop/Ali Asgar/Stony Brook/Advanced Project/local/translator/translation_for_latex/utils/gpt_api.py:90\u001b[0m, in \u001b[0;36mtranslate\u001b[0;34m(text, target_language, source_language, model)\u001b[0m\n\u001b[1;32m     86\u001b[0m \u001b[38;5;250m\u001b[39m\u001b[38;5;124;03m\"\"\"\u001b[39;00m\n\u001b[1;32m     87\u001b[0m \u001b[38;5;124;03mPublic-facing function to translate text to the specified language.\u001b[39;00m\n\u001b[1;32m     88\u001b[0m \u001b[38;5;124;03m\"\"\"\u001b[39;00m\n\u001b[1;32m     89\u001b[0m \u001b[38;5;66;03m# Example: using a moderate temperature for balanced translations\u001b[39;00m\n\u001b[0;32m---> 90\u001b[0m \u001b[38;5;28;01mreturn\u001b[39;00m prepare_translation(\n\u001b[1;32m     91\u001b[0m     text\u001b[38;5;241m=\u001b[39mtext,\n\u001b[1;32m     92\u001b[0m     temperature\u001b[38;5;241m=\u001b[39m\u001b[38;5;241m0.20\u001b[39m,\n\u001b[1;32m     93\u001b[0m     target_language\u001b[38;5;241m=\u001b[39mtarget_language,\n\u001b[1;32m     94\u001b[0m     source_language\u001b[38;5;241m=\u001b[39msource_language,\n\u001b[1;32m     95\u001b[0m     model\u001b[38;5;241m=\u001b[39mmodel,\n\u001b[1;32m     96\u001b[0m )\n",
      "File \u001b[0;32m~/Desktop/Ali Asgar/Stony Brook/Advanced Project/local/translator/translation_for_latex/utils/gpt_api.py:82\u001b[0m, in \u001b[0;36mprepare_translation\u001b[0;34m(text, temperature, target_language, source_language, model)\u001b[0m\n\u001b[1;32m     62\u001b[0m command \u001b[38;5;241m=\u001b[39m (\n\u001b[1;32m     63\u001b[0m     \u001b[38;5;124mf\u001b[39m\u001b[38;5;124m\"\u001b[39m\u001b[38;5;124mTranslate the text into \u001b[39m\u001b[38;5;132;01m{\u001b[39;00mtarget_language\u001b[38;5;132;01m}\u001b[39;00m\u001b[38;5;124m, ensuring that programming terms and book terms \u001b[39m\u001b[38;5;124m\"\u001b[39m\n\u001b[1;32m     64\u001b[0m     \u001b[38;5;124mf\u001b[39m\u001b[38;5;124m\"\u001b[39m\u001b[38;5;124mare transliterated using the \u001b[39m\u001b[38;5;132;01m{\u001b[39;00mtarget_language\u001b[38;5;132;01m}\u001b[39;00m\u001b[38;5;124m script while preserving their English\u001b[39m\u001b[38;5;124m\"\u001b[39m\n\u001b[0;32m   (...)\u001b[0m\n\u001b[1;32m     71\u001b[0m     \u001b[38;5;124mf\u001b[39m\u001b[38;5;124m\"\u001b[39m\u001b[38;5;124mRetain all square brackets at any cost. Always translate the text inside square brackets using words from \u001b[39m\u001b[38;5;132;01m{\u001b[39;00mtarget_language\u001b[38;5;132;01m}\u001b[39;00m\u001b[38;5;124m. The text to be translated is as follows:\u001b[39m\u001b[38;5;124m\"\u001b[39m\n\u001b[1;32m     72\u001b[0m )\n\u001b[1;32m     74\u001b[0m messages \u001b[38;5;241m=\u001b[39m [\n\u001b[1;32m     75\u001b[0m     {\n\u001b[1;32m     76\u001b[0m         \u001b[38;5;124m\"\u001b[39m\u001b[38;5;124mrole\u001b[39m\u001b[38;5;124m\"\u001b[39m: \u001b[38;5;124m\"\u001b[39m\u001b[38;5;124msystem\u001b[39m\u001b[38;5;124m\"\u001b[39m,\n\u001b[0;32m   (...)\u001b[0m\n\u001b[1;32m     79\u001b[0m     {\u001b[38;5;124m\"\u001b[39m\u001b[38;5;124mrole\u001b[39m\u001b[38;5;124m\"\u001b[39m: \u001b[38;5;124m\"\u001b[39m\u001b[38;5;124muser\u001b[39m\u001b[38;5;124m\"\u001b[39m, \u001b[38;5;124m\"\u001b[39m\u001b[38;5;124mcontent\u001b[39m\u001b[38;5;124m\"\u001b[39m: \u001b[38;5;124mf\u001b[39m\u001b[38;5;124m\"\u001b[39m\u001b[38;5;132;01m{\u001b[39;00mcommand\u001b[38;5;132;01m}\u001b[39;00m\u001b[38;5;124m \u001b[39m\u001b[38;5;132;01m{\u001b[39;00mtext\u001b[38;5;132;01m}\u001b[39;00m\u001b[38;5;124m\"\u001b[39m},\n\u001b[1;32m     80\u001b[0m ]\n\u001b[0;32m---> 82\u001b[0m \u001b[38;5;28;01mreturn\u001b[39;00m generate_response(messages\u001b[38;5;241m=\u001b[39mmessages, model\u001b[38;5;241m=\u001b[39mmodel, temperature\u001b[38;5;241m=\u001b[39mtemperature)\n",
      "File \u001b[0;32m~/Desktop/Ali Asgar/Stony Brook/Advanced Project/local/translator/translation_for_latex/utils/gpt_api.py:38\u001b[0m, in \u001b[0;36mgenerate_response\u001b[0;34m(messages, model, temperature)\u001b[0m\n\u001b[1;32m     33\u001b[0m \u001b[38;5;28;01mdef\u001b[39;00m \u001b[38;5;21mgenerate_response\u001b[39m(messages, model, temperature\u001b[38;5;241m=\u001b[39m\u001b[38;5;241m0.2\u001b[39m):\n\u001b[1;32m     34\u001b[0m \u001b[38;5;250m    \u001b[39m\u001b[38;5;124;03m\"\"\"\u001b[39;00m\n\u001b[1;32m     35\u001b[0m \u001b[38;5;124;03m    Dynamically include `temperature` param if the model supports it.\u001b[39;00m\n\u001b[1;32m     36\u001b[0m \u001b[38;5;124;03m    \"\"\"\u001b[39;00m\n\u001b[0;32m---> 38\u001b[0m     client \u001b[38;5;241m=\u001b[39m get_client()  \u001b[38;5;66;03m# Acquire the lazy-loaded client\u001b[39;00m\n\u001b[1;32m     39\u001b[0m     \u001b[38;5;66;03m# Known set of models/endpoints that allow temperature\u001b[39;00m\n\u001b[1;32m     40\u001b[0m     models_with_temperature \u001b[38;5;241m=\u001b[39m {\u001b[38;5;124m\"\u001b[39m\u001b[38;5;124mgpt-3.5-turbo\u001b[39m\u001b[38;5;124m\"\u001b[39m, \u001b[38;5;124m\"\u001b[39m\u001b[38;5;124mgpt-4\u001b[39m\u001b[38;5;124m\"\u001b[39m, \u001b[38;5;124m\"\u001b[39m\u001b[38;5;124mgpt-4o\u001b[39m\u001b[38;5;124m\"\u001b[39m \u001b[38;5;124m\"\u001b[39m\u001b[38;5;124mtext-davinci-003\u001b[39m\u001b[38;5;124m\"\u001b[39m}\n",
      "File \u001b[0;32m~/Desktop/Ali Asgar/Stony Brook/Advanced Project/local/translator/translation_for_latex/utils/gpt_api.py:23\u001b[0m, in \u001b[0;36mget_client\u001b[0;34m()\u001b[0m\n\u001b[1;32m     18\u001b[0m \u001b[38;5;28;01mglobal\u001b[39;00m client\n\u001b[1;32m     20\u001b[0m \u001b[38;5;28;01mif\u001b[39;00m \u001b[38;5;129;01mnot\u001b[39;00m _client_initialized:\n\u001b[1;32m     21\u001b[0m     \u001b[38;5;66;03m# Set the API key or any other configuration here\u001b[39;00m\n\u001b[1;32m     22\u001b[0m     \u001b[38;5;66;03m# openai.api_key = KEY\u001b[39;00m\n\u001b[0;32m---> 23\u001b[0m     client \u001b[38;5;241m=\u001b[39m OpenAI(api_key\u001b[38;5;241m=\u001b[39mKEY)\n\u001b[1;32m     25\u001b[0m     \u001b[38;5;66;03m# In principle, you could create a custom client object if needed,\u001b[39;00m\n\u001b[1;32m     26\u001b[0m     \u001b[38;5;66;03m# but the openai library uses a global state pattern for `api_key`.\u001b[39;00m\n\u001b[1;32m     27\u001b[0m     _client_initialized \u001b[38;5;241m=\u001b[39m \u001b[38;5;28;01mTrue\u001b[39;00m\n",
      "File \u001b[0;32m/opt/anaconda3/envs/ap_env/lib/python3.11/site-packages/openai/_client.py:114\u001b[0m, in \u001b[0;36mOpenAI.__init__\u001b[0;34m(self, api_key, organization, project, base_url, websocket_base_url, timeout, max_retries, default_headers, default_query, http_client, _strict_response_validation)\u001b[0m\n\u001b[1;32m    112\u001b[0m     api_key \u001b[38;5;241m=\u001b[39m os\u001b[38;5;241m.\u001b[39menviron\u001b[38;5;241m.\u001b[39mget(\u001b[38;5;124m\"\u001b[39m\u001b[38;5;124mOPENAI_API_KEY\u001b[39m\u001b[38;5;124m\"\u001b[39m)\n\u001b[1;32m    113\u001b[0m \u001b[38;5;28;01mif\u001b[39;00m api_key \u001b[38;5;129;01mis\u001b[39;00m \u001b[38;5;28;01mNone\u001b[39;00m:\n\u001b[0;32m--> 114\u001b[0m     \u001b[38;5;28;01mraise\u001b[39;00m OpenAIError(\n\u001b[1;32m    115\u001b[0m         \u001b[38;5;124m\"\u001b[39m\u001b[38;5;124mThe api_key client option must be set either by passing api_key to the client or by setting the OPENAI_API_KEY environment variable\u001b[39m\u001b[38;5;124m\"\u001b[39m\n\u001b[1;32m    116\u001b[0m     )\n\u001b[1;32m    117\u001b[0m \u001b[38;5;28mself\u001b[39m\u001b[38;5;241m.\u001b[39mapi_key \u001b[38;5;241m=\u001b[39m api_key\n\u001b[1;32m    119\u001b[0m \u001b[38;5;28;01mif\u001b[39;00m organization \u001b[38;5;129;01mis\u001b[39;00m \u001b[38;5;28;01mNone\u001b[39;00m:\n",
      "\u001b[0;31mOpenAIError\u001b[0m: The api_key client option must be set either by passing api_key to the client or by setting the OPENAI_API_KEY environment variable"
     ]
    }
   ],
   "source": [
    "import sys\n",
    "import os\n",
    "\n",
    "# Construct the absolute path to the folder containing main.py\n",
    "parent_dir = os.path.abspath(\"translation_for_latex\")\n",
    "if parent_dir not in sys.path:\n",
    "    sys.path.append(parent_dir)\n",
    "\n",
    "# Now you can import main.py\n",
    "import main  # assuming the file is named main.py"
   ]
  },
  {
   "cell_type": "code",
   "execution_count": null,
   "id": "025c93dc",
   "metadata": {},
   "outputs": [],
   "source": []
  }
 ],
 "metadata": {
  "kernelspec": {
   "display_name": "ap_env",
   "language": "python",
   "name": "python3"
  },
  "language_info": {
   "codemirror_mode": {
    "name": "ipython",
    "version": 3
   },
   "file_extension": ".py",
   "mimetype": "text/x-python",
   "name": "python",
   "nbconvert_exporter": "python",
   "pygments_lexer": "ipython3",
   "version": "3.11.11"
  }
 },
 "nbformat": 4,
 "nbformat_minor": 5
}
